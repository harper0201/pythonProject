{
 "cells": [
  {
   "cell_type": "code",
   "execution_count": 1,
   "id": "093826a6",
   "metadata": {},
   "outputs": [],
   "source": [
    "#Third Year Paper Code\n",
    "import numpy as np\n",
    "import random \n",
    "import matplotlib.pyplot as plt"
   ]
  },
  {
   "cell_type": "code",
   "execution_count": 2,
   "id": "769d45d9",
   "metadata": {},
   "outputs": [],
   "source": [
    "# Simulation Setting\n",
    "# Based on DO (1999) lab setting\n",
    "# with u = 20\n",
    "# start with production good in storage\n",
    "# constant gain learning with gamma = 0.7"
   ]
  },
  {
   "cell_type": "code",
   "execution_count": 3,
   "id": "5cae1595",
   "metadata": {},
   "outputs": [],
   "source": [
    "#Basic Parameters\n",
    "u = 20\n",
    "β = 0.9\n",
    "c_1 = 1\n",
    "c_2 = 4\n",
    "c_3 = 9\n",
    "t = 1\n",
    "γ = 0.5"
   ]
  },
  {
   "cell_type": "code",
   "execution_count": 4,
   "id": "be080ab0",
   "metadata": {},
   "outputs": [],
   "source": [
    "#initial value for Q\n",
    "#When initial condition is production good in storage\n",
    "#based on rational expectation\n",
    "shock = 0\n",
    "Q_12 = -40 + shock\n",
    "Q_13 = -37.5 + shock\n",
    "Q_11 = Q_12 + u\n",
    "Q_21 = -10 + shock\n",
    "Q_23 = -30 + shock\n",
    "Q_22 = Q_23 + u\n",
    "Q_31 = 50 + shock\n",
    "Q_32 = 42.5 + shock\n",
    "Q_33 = Q_31 + u"
   ]
  },
  {
   "cell_type": "code",
   "execution_count": 5,
   "id": "8f4978a4",
   "metadata": {},
   "outputs": [],
   "source": [
    "# Create agents\n",
    "# Agents have there type which same as there consumption type, they also have production type\n",
    "class Agent:\n",
    "    agentCount = 0\n",
    "\n",
    "    def __init__(self, id, consume_type, product_type):\n",
    "        self.id = id\n",
    "        self.consume_type = consume_type\n",
    "        self.product_type = product_type\n",
    "        self.storage_type = product_type\n",
    "        self.opposite_storage = 0\n",
    "        self.trading_result = False\n",
    "        self.trading = False\n",
    "        self.original_storage = self.storage_type\n",
    "\n",
    "        #generate type 1 agents' Q(precieved value for holding good 1 , 2 , 3)\n",
    "        if self.consume_type == 1:\n",
    "            self.Q_2 = -9 + random.randint(1,55)\n",
    "        if self.consume_type == 1:\n",
    "            self.Q_3 = 8 + random.randint(1,55)\n",
    "        if self.consume_type == 1:\n",
    "            self.Q_1 = 9999\n",
    "            \n",
    "        #generate type 2 agents' Q(precieved value for holding good 1 , 2 , 3)\n",
    "        if self.consume_type == 2:\n",
    "            self.Q_1 = -10 + random.randint(1,50)\n",
    "        if self.consume_type == 2:\n",
    "            self.Q_3 = -30 + random.randint(1,50)\n",
    "        if self.consume_type == 2:\n",
    "            self.Q_2 = 9999\n",
    "            \n",
    "        #generate type 3 agents' Q(precieved value for holding good 1 , 2 , 3)\n",
    "        if self.consume_type == 3:\n",
    "            self.Q_1 = 70+ random.randint(1,30)\n",
    "        if self.consume_type == 3:\n",
    "            self.Q_2 = 42.5 + random.randint(1,30)\n",
    "        if self.consume_type == 3:\n",
    "            self.Q_3 = 9999\n",
    "\n",
    "        # other characteristics wait to be added\n",
    "        Agent.agentCount += 1\n",
    "\n",
    "    def displayAgent(self):\n",
    "        print(\"Agent id:\", self.id, \"consume:\", self.consume_type, \",produce:\", self.product_type, \",storage:\",\n",
    "              self.storage_type, \"Q_1:\", self.Q_1, \"Q_2:\", self.Q_2, \"Q_3:\", self.Q_3,\"opposite:\",self.opposite_storage,\"trading:\",self.trading,\"trading_reuslt:\",self.trading_result)\n",
    "\n",
    "        \n"
   ]
  },
  {
   "cell_type": "code",
   "execution_count": 6,
   "id": "bee742b9",
   "metadata": {},
   "outputs": [],
   "source": [
    "# matching process\n",
    "# update agent's information of what situation he is facing\n",
    "def match(mylist):\n",
    "    random.shuffle(mylist)\n",
    "    matchlist = dict()\n",
    "    index = list(range(0, len(mylist), 2))\n",
    "    for i in index:\n",
    "        matchlist[mylist[i]] = mylist[i + 1]\n",
    "    for key in matchlist:\n",
    "        update_opposite_storage(key,matchlist[key]) \n",
    "        key.original_storage = key.storage_type #easy to update Q at the end of the round\n",
    "        matchlist[key].original_storage = matchlist[key].storage_type\n",
    "    return matchlist\n",
    "\n",
    "# update what good the other agent is holding\n",
    "def update_opposite_storage(agent1, agent2):\n",
    "    storage_1 = agent1.storage_type\n",
    "    storage_2 = agent2.storage_type\n",
    "    agent1.opposite_storage = storage_2\n",
    "    agent2.opposite_storage = storage_1"
   ]
  },
  {
   "cell_type": "code",
   "execution_count": 7,
   "id": "f6423334",
   "metadata": {},
   "outputs": [],
   "source": [
    "#get the parameters for decision making and updating Q\n",
    "def get_Q_hold(agent):\n",
    "    if agent.storage_type == 1:\n",
    "        return agent.Q_1\n",
    "    elif agent.storage_type == 2:\n",
    "        return agent.Q_2\n",
    "    elif agent.storage_type == 3:\n",
    "        return agent.Q_3\n",
    "\n",
    "def get_original_Q_hold(agent):\n",
    "    if agent.original_storage == 1:\n",
    "        return agent.Q_1\n",
    "    elif agent.original_storage == 2:\n",
    "        return agent.Q_2\n",
    "    elif agent.original_storage == 3:\n",
    "        return agent.Q_3\n",
    "\n",
    "def set_Q_hold(agent,update_value):\n",
    "    if agent.storage_type == 1:\n",
    "        agent.Q_1 = update_value\n",
    "    elif agent.storage_type == 2:\n",
    "        agent.Q_2 = update_value\n",
    "    elif agent.storage_type == 3:\n",
    "        agent.Q_3 = update_value\n",
    "        \n",
    "def set_original_Q_hold(agent,update_value):\n",
    "    if agent.original_storage == 1:\n",
    "        agent.Q_1 = update_value\n",
    "    elif agent.original_storage == 2:\n",
    "        agent.Q_2 = update_value\n",
    "    elif agent.original_storage == 3:\n",
    "        agent.Q_3 = update_value\n",
    "\n",
    "def get_Q_trade(agent):\n",
    "    if agent.opposite_storage == 1:\n",
    "        return agent.Q_1\n",
    "    elif agent.opposite_storage == 2:\n",
    "        return agent.Q_2\n",
    "    elif agent.opposite_storage == 3:\n",
    "        return agent.Q_3\n",
    "\n",
    "def get_C_hold(agent):\n",
    "    if agent.storage_type == 1:\n",
    "        return c_1\n",
    "    elif agent.storage_type == 2:\n",
    "        return c_2\n",
    "    elif agent.storage_type == 3:\n",
    "        return c_3\n",
    "\n",
    "def get_C_trade(agent):\n",
    "    if agent.opposite_storage == 1:\n",
    "        return c_1\n",
    "    elif agent.opposite_storage == 2:\n",
    "        return c_2\n",
    "    elif agent.opposite_storage == 3:\n",
    "        return c_3\n"
   ]
  },
  {
   "cell_type": "code",
   "execution_count": 8,
   "id": "7b1a8950",
   "metadata": {},
   "outputs": [],
   "source": [
    "# trading decision by each agent\n",
    "def transaction_decision(agent):\n",
    "    Q_hold = get_Q_hold(agent)\n",
    "    Q_trade = get_Q_trade(agent)\n",
    "    C_hold = get_C_hold(agent)\n",
    "    C_trade = get_C_trade(agent)\n",
    "\n",
    "    if β * Q_hold - C_hold < β * Q_trade - C_trade:\n",
    "        agent.trading = True\n",
    "    else:\n",
    "        agent.trading = False\n",
    "        \n",
    "# trading results \n",
    "def produce_outcome(matched_list):\n",
    "    trade_outcome = list()\n",
    "    for key in matched_list.keys():\n",
    "        if key.trading == True and matched_list[key].trading == True:\n",
    "            trade_outcome.append(True)\n",
    "            key.trading_result = True\n",
    "            matched_list[key].trading_result = True\n",
    "        else:\n",
    "            trade_outcome.append(False)\n",
    "            key.trading_result = False\n",
    "            matched_list[key].trading_result = False\n",
    "    return trade_outcome\n",
    "\n"
   ]
  },
  {
   "cell_type": "code",
   "execution_count": 9,
   "id": "48f93ec1",
   "metadata": {},
   "outputs": [],
   "source": [
    "# based on trading result, updates Q and storage\n",
    "\n",
    "def update_trading(agent):\n",
    "    if(agent.trading_result == False): #if there is trade\n",
    "        v_prime = get_C_hold(agent)*(-1) + β * get_Q_hold(agent)\n",
    "        updated_value = get_Q_hold(agent) + γ * (v_prime - get_Q_hold(agent))\n",
    "        set_Q_hold(agent,updated_value)\n",
    "    else: #if trade happened \n",
    "        if agent.consume_type == agent.opposite_storage: #agent gets his own consumption good\n",
    "            agent.storage_type = agent.product_type #agent eats the consumption good and produces another production good \n",
    "            v_prime = get_C_hold(agent) * (-1) + β * get_Q_hold(agent) + u\n",
    "            updated_value = get_original_Q_hold(agent) + γ * (v_prime - get_original_Q_hold(agent))\n",
    "            set_original_Q_hold(agent,updated_value)\n",
    "        else: #agent does not get his cons good\n",
    "            agent.storage_type = agent.opposite_storage \n",
    "            v_prime = get_C_hold(agent) *(-1) + β * get_Q_hold(agent)\n",
    "            updated_value = get_original_Q_hold(agent) + γ * (v_prime - get_original_Q_hold(agent))\n",
    "            set_original_Q_hold(agent, updated_value)"
   ]
  },
  {
   "cell_type": "code",
   "execution_count": 10,
   "id": "cecf99b3",
   "metadata": {},
   "outputs": [],
   "source": [
    "# Global behavior recorder\n",
    "\n",
    "def global_a1_s2_f3(mylist,count_down,count_up): #agent 1 holding 2 facing opportunity for 3\n",
    "    result = list()\n",
    "    for ele in mylist:\n",
    "        if (ele.consume_type == 1 and ele.storage_type == 2 and ele.opposite_storage == 3):\n",
    "            count_down += 1\n",
    "            if (ele.trading == True):\n",
    "                count_up += 1\n",
    "\n",
    "    result.append(count_up)\n",
    "    result.append(count_down)\n",
    "    return result\n",
    "\n",
    "def global_a2_s3_f1(mylist,count_down,count_up): #agent 2 holding 3 facing opportunity for 1\n",
    "    result = list()\n",
    "    for ele in mylist:\n",
    "        if (ele.consume_type == 2 and ele.storage_type == 3 and ele.opposite_storage == 1):\n",
    "            count_down += 1\n",
    "            if (ele.trading == True):\n",
    "                count_up += 1\n",
    "\n",
    "    result.append(count_up)\n",
    "    result.append(count_down)\n",
    "    return result\n",
    "\n",
    "def global_a3_s1_f2(mylist,count_down,count_up): #agent 3 holding 1 facing opportunity for 2\n",
    "    result = list()\n",
    "    for ele in mylist:\n",
    "        if (ele.consume_type == 3 and ele.storage_type == 1 and ele.opposite_storage == 2):\n",
    "            count_down += 1\n",
    "            if (ele.trading == True):\n",
    "                count_up += 1\n",
    "\n",
    "    result.append(count_up)\n",
    "    result.append(count_down)\n",
    "    return result\n",
    "\n",
    "def global_a1_s_f1(mylist,count_down,count_up): #agent 1 holding ANY good facing opportunity for 1\n",
    "    result = list()\n",
    "    for ele in mylist:\n",
    "        if (ele.consume_type == 1  and ele.opposite_storage == 1):\n",
    "            count_down += 1\n",
    "            if (ele.trading == True):\n",
    "                count_up += 1\n",
    "\n",
    "    result.append(count_up)\n",
    "    result.append(count_down)\n",
    "    return result\n",
    "\n",
    "def global_a2_s_f2(mylist,count_down,count_up): #agent 2 holding ANY good facing opportunity for 2\n",
    "    result = list()\n",
    "    for ele in mylist:\n",
    "        if (ele.consume_type == 2  and ele.opposite_storage ==2 ):\n",
    "            count_down += 1\n",
    "            if (ele.trading == True):\n",
    "                count_up += 1\n",
    "\n",
    "    result.append(count_up)\n",
    "    result.append(count_down)\n",
    "    return result\n",
    "\n",
    "def global_a3_s_f3(mylist,count_down,count_up): #agent 3 holding ANY good facing opportunity for 3\n",
    "    result = list()\n",
    "    for ele in mylist:\n",
    "        if (ele.consume_type == 3  and ele.opposite_storage ==3 ):\n",
    "            count_down += 1\n",
    "            if (ele.trading == True):\n",
    "                count_up += 1\n",
    "\n",
    "    result.append(count_up)\n",
    "    result.append(count_down)\n",
    "    return result"
   ]
  },
  {
   "cell_type": "code",
   "execution_count": null,
   "id": "d4853646",
   "metadata": {},
   "outputs": [],
   "source": [
    "\n"
   ]
  },
  {
   "cell_type": "code",
   "execution_count": 17,
   "id": "ad7b0bb2",
   "metadata": {},
   "outputs": [
    {
     "name": "stdout",
     "output_type": "stream",
     "text": [
      "Agent 1 with good 2 facing good 3: 0.2033195020746888\n",
      "Agent 2 with good 3 facing good 1: 0.9818181818181818\n",
      "Agent 3 with good 1 facing good 2: 0.18553459119496854\n",
      "Agent 1 facing good 1: 1.0\n",
      "Agent 2 facing good 2: 1.0\n",
      "Agent 3 facing good 3: 1.0\n"
     ]
    }
   ],
   "source": [
    "# main code\n",
    "\n",
    "if __name__ == '__main__':\n",
    "    u = 20\n",
    "    β = 0.9\n",
    "    c_1 = 1\n",
    "    c_2 = 4\n",
    "    c_3 = 9\n",
    "    t = 1\n",
    "\n",
    "    mylist = list()\n",
    "    agent1 = Agent(1, 1, 2)\n",
    "    mylist.append(agent1)\n",
    "    agent2 = Agent(2, 1, 2)\n",
    "    mylist.append(agent2)\n",
    "    agent3 = Agent(3, 1, 2)\n",
    "    mylist.append(agent3)\n",
    "    agent4 = Agent(4, 1, 2)\n",
    "    mylist.append(agent4)\n",
    "    agent5 = Agent(5, 1, 2)\n",
    "    mylist.append(agent5)\n",
    "    agent6 = Agent(6, 1, 2)\n",
    "    mylist.append(agent6)\n",
    "    agent7 = Agent(7, 1, 2)\n",
    "    mylist.append(agent7)\n",
    "    agent8 = Agent(8, 1, 2)\n",
    "    mylist.append(agent8)\n",
    "    agent9 = Agent(9, 2, 3)\n",
    "    mylist.append(agent9)\n",
    "    agent10 = Agent(10, 2, 3)\n",
    "    mylist.append(agent10)\n",
    "    agent11 = Agent(11, 2, 3)\n",
    "    mylist.append(agent11)\n",
    "    agent12 = Agent(12, 2, 3)\n",
    "    mylist.append(agent12)\n",
    "    agent13 = Agent(13, 2, 3)\n",
    "    mylist.append(agent13)\n",
    "    agent14 = Agent(14, 2, 3)\n",
    "    mylist.append(agent14)\n",
    "    agent15 = Agent(15, 2, 3)\n",
    "    mylist.append(agent15)\n",
    "    agent16 = Agent(16, 2, 3)\n",
    "    mylist.append(agent16)\n",
    "    agent17 = Agent(17, 3, 1)\n",
    "    mylist.append(agent17)\n",
    "    agent18 = Agent(18, 3, 1)\n",
    "    mylist.append(agent18)\n",
    "    agent19 = Agent(19, 3, 1)\n",
    "    mylist.append(agent19)\n",
    "    agent20 = Agent(20, 3, 1)\n",
    "    mylist.append(agent20)\n",
    "    agent21 = Agent(21, 3, 1)\n",
    "    mylist.append(agent21)\n",
    "    agent22 = Agent(22, 3, 1)\n",
    "    mylist.append(agent22)\n",
    "    agent23 = Agent(23, 3, 1)\n",
    "    mylist.append(agent23)\n",
    "    agent24 = Agent(24, 3, 1)\n",
    "    mylist.append(agent24)\n",
    "\n",
    "    game_continue = True\n",
    "\n",
    "    count_round = 0\n",
    "    sum_up123 = 0\n",
    "    sum_down123 = 0\n",
    "    sum_up231 = 0\n",
    "    sum_down231 = 0\n",
    "    sum_up312 = 0\n",
    "    sum_down312 = 0\n",
    "    \n",
    "    result_list_123_each_round = []\n",
    "    result_list_123_sum = []\n",
    "    result_list_231_each_round = []\n",
    "    result_list_231_sum = []\n",
    "    result_list_312_each_round = []\n",
    "    result_list_312_sum = []\n",
    "    \n",
    "    \n",
    "    sum_up11 = 0\n",
    "    sum_down11 = 0\n",
    "    sum_up22 = 0\n",
    "    sum_down22 = 0\n",
    "    sum_up33 = 0\n",
    "    sum_down33 = 0\n",
    "    \n",
    "    t_list = []\n",
    "    \n",
    "    while(count_round < 140):\n",
    "        count_round += 1\n",
    "        t_list.append(count_round)\n",
    "        matched_list = match(mylist)\n",
    "\n",
    "        for key in matched_list.keys():\n",
    "            transaction_decision(key)\n",
    "            transaction_decision(matched_list[key])\n",
    "\n",
    "        global_r1_2_3 = global_a1_s2_f3(mylist,0,0)\n",
    "        sum_up123 = sum_up123 + global_r1_2_3[0]\n",
    "        sum_down123 = sum_down123 + global_r1_2_3[1]\n",
    "        result_list_123_each_round.append( (global_r1_2_3[0]+0.1) / (global_r1_2_3[1]+0.1) )\n",
    "        result_list_123_sum.append((sum_up123+0.1)/(sum_down123+0.1))\n",
    "        \n",
    "        global_r2_3_1 = global_a2_s3_f1(mylist,0,0)\n",
    "        sum_up231 = sum_up231 + global_r2_3_1[0]\n",
    "        sum_down231 = sum_down231 + global_r2_3_1[1]\n",
    "        result_list_231_each_round.append( (global_r2_3_1[0]+0.1) / (global_r2_3_1[1]+0.1) )\n",
    "        result_list_231_sum.append((sum_up231+0.1)/(sum_down231+0.1))\n",
    "        \n",
    "        global_r3_1_2 = global_a3_s1_f2(mylist,0,0)\n",
    "        sum_up312 = sum_up312 + global_r3_1_2[0]\n",
    "        sum_down312 = sum_down312 + global_r3_1_2[1]\n",
    "        result_list_312_each_round.append( (global_r3_1_2[0]+0.1) / (global_r3_1_2[1]+0.1) )\n",
    "        result_list_312_sum.append((sum_up312+0.1)/(sum_down312+0.1))\n",
    "        \n",
    "        global_r1_1 = global_a1_s_f1(mylist,0,0)\n",
    "        sum_up11 = sum_up11 + global_r1_1[0]\n",
    "        sum_down11 = sum_down11 + global_r1_1[1]\n",
    "        \n",
    "        global_r2_2 = global_a2_s_f2(mylist,0,0)\n",
    "        sum_up22 = sum_up22 + global_r2_2[0]\n",
    "        sum_down22 = sum_down22 + global_r2_2[1]\n",
    "        \n",
    "        global_r3_3 = global_a3_s_f3(mylist,0,0)\n",
    "        sum_up33 = sum_up33 + global_r3_3[0]\n",
    "        sum_down33 = sum_down33 + global_r3_3[1]\n",
    "        \n",
    "        \n",
    "\n",
    "        #for ele in mylist:\n",
    "            #ele.displayAgent()\n",
    "\n",
    "        produce_outcome(matched_list)\n",
    "\n",
    "        for key in matched_list.keys():\n",
    "            update_trading(key)\n",
    "            update_trading(matched_list[key])\n",
    "\n",
    "        #print(count_round)\n",
    "\n",
    "        stopping_draw = random.uniform(0, 1)\n",
    "        if stopping_draw > 0.01:\n",
    "            game_continue = True\n",
    "        else:\n",
    "            game_continue = False\n",
    "\n",
    "    print(\"Agent 1 with good 2 facing good 3:\", sum_up123/sum_down123)\n",
    "    print(\"Agent 2 with good 3 facing good 1:\", sum_up231/sum_down231)\n",
    "    print(\"Agent 3 with good 1 facing good 2:\", sum_up312/sum_down312)\n",
    "    \n",
    "    print(\"Agent 1 facing good 1:\", sum_up11/sum_down11)\n",
    "    print(\"Agent 2 facing good 2:\", sum_up22/sum_down22)\n",
    "    print(\"Agent 3 facing good 3:\", sum_up33/sum_down33)\n",
    "    \n",
    "    "
   ]
  },
  {
   "cell_type": "code",
   "execution_count": 18,
   "id": "30346e4b",
   "metadata": {},
   "outputs": [
    {
     "data": {
      "image/png": "[encoded data removed]",
      "text/plain": [
       "<Figure size 432x288 with 1 Axes>"
      ]
     },
     "metadata": {
      "needs_background": "light"
     },
     "output_type": "display_data"
    }
   ],
   "source": [
    "#plot the dynamic of the behavior\n",
    "\n",
    "#plt.plot(result_list_123_each_round)\n",
    "plt.plot(result_list_123_sum, label = \"agent1\")\n",
    "#plt.plot(result_list_123_each_round)\n",
    "plt.plot(result_list_231_sum, label = \"agent2\")\n",
    "#plt.plot(result_list_123_each_round)\n",
    "plt.plot(result_list_312_sum, label = \"agent3\")\n",
    "plt.legend()\n",
    "plt.xlabel(\"t\")\n",
    "plt.ylabel(\"Percentage\")\n",
    "plt.show()"
   ]
  },
  {
   "cell_type": "code",
   "execution_count": 193,
   "id": "d2e41a35",
   "metadata": {},
   "outputs": [
    {
     "data": {
      "text/plain": [
       "[<matplotlib.lines.Line2D at 0x7fa7d5d20820>]"
      ]
     },
     "execution_count": 193,
     "metadata": {},
     "output_type": "execute_result"
    },
    {
     "data": {
      "image/png": "[encoded data removed]",
      "text/plain": [
       "<Figure size 432x288 with 1 Axes>"
      ]
     },
     "metadata": {
      "needs_background": "light"
     },
     "output_type": "display_data"
    }
   ],
   "source": [
    "plt.plot(result_list_123_each_round[9900:10000], label = \"agent1\")"
   ]
  },
  {
   "cell_type": "code",
   "execution_count": 194,
   "id": "41006915",
   "metadata": {},
   "outputs": [
    {
     "data": {
      "text/plain": [
       "2.844256348959094"
      ]
     },
     "execution_count": 194,
     "metadata": {},
     "output_type": "execute_result"
    },
    {
     "data": {
      "image/png": "[encoded data removed]",
      "text/plain": [
       "<Figure size 432x288 with 1 Axes>"
      ]
     },
     "metadata": {
      "needs_background": "light"
     },
     "output_type": "display_data"
    }
   ],
   "source": [
    "# n periods average \n",
    "n_period = 10\n",
    "n_period_average = list()\n",
    "\n",
    "for i in range (len(result_list_123_each_round)):\n",
    "    n_period_average.append(sum(result_list_123_each_round[i:i+n_period]))\n",
    "\n",
    "plt.plot(n_period_average[1500:1999])\n",
    "np.average(n_period_average[1500:1999])"
   ]
  },
  {
   "cell_type": "code",
   "execution_count": 195,
   "id": "098948ee",
   "metadata": {},
   "outputs": [
    {
     "data": {
      "image/png": "[encoded data removed]",
      "text/plain": [
       "<Figure size 432x288 with 1 Axes>"
      ]
     },
     "metadata": {
      "needs_background": "light"
     },
     "output_type": "display_data"
    }
   ],
   "source": [
    "#plt the best responds of the behavior\n",
    "plt.plot(result_list_123_sum, label = \"agent1\")\n",
    "plt.legend()\n",
    "plt.xlabel(\"t\")\n",
    "plt.ylabel(\"Percentage\")\n",
    "plt.show()"
   ]
  },
  {
   "cell_type": "code",
   "execution_count": 196,
   "id": "f90fd651",
   "metadata": {},
   "outputs": [
    {
     "data": {
      "image/png": "[encoded data removed]",
      "text/plain": [
       "<Figure size 432x288 with 1 Axes>"
      ]
     },
     "metadata": {
      "needs_background": "light"
     },
     "output_type": "display_data"
    }
   ],
   "source": [
    "#best respond graph\n",
    "br_312 = result_list_312_sum\n",
    "for i in range(len(br_312)):\n",
    "    br_312[i] = 1 - br_312[i] \n",
    "br_123 = result_list_123_sum\n",
    "for i in range(len(br_123)):\n",
    "    br_123[i] = 1 - br_123[i]\n",
    "plt.plot(br_123, label = \"agent1\")\n",
    "plt.plot(result_list_231_sum, label = \"agent2\")\n",
    "plt.plot(br_312, label = \"agent3\")\n",
    "plt.legend()\n",
    "plt.xlabel(\"t\")\n",
    "plt.ylabel(\"Best respond ratio\")\n",
    "plt.ylim(0)\n",
    "plt.show()"
   ]
  },
  {
   "cell_type": "code",
   "execution_count": 202,
   "id": "37804971",
   "metadata": {},
   "outputs": [
    {
     "data": {
      "image/png": "[encoded data removed]",
      "text/plain": [
       "<Figure size 432x288 with 1 Axes>"
      ]
     },
     "metadata": {
      "needs_background": "light"
     },
     "output_type": "display_data"
    }
   ],
   "source": [
    "#best respond for a shorter period\n",
    "data_agent1_150 = np.zeros(500)\n",
    "data_agent2_150 = np.zeros(500)\n",
    "data_agent3_150 = np.zeros(500)\n",
    "for i in range(500):\n",
    "    data_agent1_150[i] = br_123[i]\n",
    "    data_agent2_150[i] = result_list_231_sum[i]\n",
    "    data_agent3_150[i] = br_312[i]\n",
    "    \n",
    "plt.plot(data_agent1_150, label = \"agent1\")\n",
    "plt.plot(data_agent2_150, label = \"agent2\")\n",
    "plt.plot(data_agent3_150, label = \"agent3\")  \n",
    "plt.legend()\n",
    "plt.show()\n",
    "\n"
   ]
  },
  {
   "cell_type": "code",
   "execution_count": 197,
   "id": "6261fef9",
   "metadata": {},
   "outputs": [],
   "source": [
    "#10 times \n",
    "loop_counter = 0\n",
    "outcome_recorder_123 = []\n",
    "outcome_recorder_231 = []\n",
    "outcome_recorder_312 = []\n",
    "while loop_counter < 100:\n",
    "    # main code\n",
    "    loop_counter = loop_counter + 1\n",
    "    #print(loop_counter)\n",
    "\n",
    "    if __name__ == '__main__':\n",
    "        u = 20\n",
    "        β = 0.9\n",
    "        c_1 = 1\n",
    "        c_2 = 4\n",
    "        c_3 = 9\n",
    "        t = 1\n",
    "\n",
    "        mylist = list()\n",
    "        agent1 = Agent(1, 1, 2)\n",
    "        mylist.append(agent1)\n",
    "        agent2 = Agent(2, 1, 2)\n",
    "        mylist.append(agent2)\n",
    "        agent3 = Agent(3, 1, 2)\n",
    "        mylist.append(agent3)\n",
    "        agent4 = Agent(4, 1, 2)\n",
    "        mylist.append(agent4)\n",
    "        agent5 = Agent(5, 1, 2)\n",
    "        mylist.append(agent5)\n",
    "        agent6 = Agent(6, 1, 2)\n",
    "        mylist.append(agent6)\n",
    "        agent7 = Agent(7, 1, 2)\n",
    "        mylist.append(agent7)\n",
    "        agent8 = Agent(8, 1, 2)\n",
    "        mylist.append(agent8)\n",
    "        agent9 = Agent(9, 2, 3)\n",
    "        mylist.append(agent9)\n",
    "        agent10 = Agent(10, 2, 3)\n",
    "        mylist.append(agent10)\n",
    "        agent11 = Agent(11, 2, 3)\n",
    "        mylist.append(agent11)\n",
    "        agent12 = Agent(12, 2, 3)\n",
    "        mylist.append(agent12)\n",
    "        agent13 = Agent(13, 2, 3)\n",
    "        mylist.append(agent13)\n",
    "        agent14 = Agent(14, 2, 3)\n",
    "        mylist.append(agent14)\n",
    "        agent15 = Agent(15, 2, 3)\n",
    "        mylist.append(agent15)\n",
    "        agent16 = Agent(16, 2, 3)\n",
    "        mylist.append(agent16)\n",
    "        agent17 = Agent(17, 3, 1)\n",
    "        mylist.append(agent17)\n",
    "        agent18 = Agent(18, 3, 1)\n",
    "        mylist.append(agent18)\n",
    "        agent19 = Agent(19, 3, 1)\n",
    "        mylist.append(agent19)\n",
    "        agent20 = Agent(20, 3, 1)\n",
    "        mylist.append(agent20)\n",
    "        agent21 = Agent(21, 3, 1)\n",
    "        mylist.append(agent21)\n",
    "        agent22 = Agent(22, 3, 1)\n",
    "        mylist.append(agent22)\n",
    "        agent23 = Agent(23, 3, 1)\n",
    "        mylist.append(agent23)\n",
    "        agent24 = Agent(24, 3, 1)\n",
    "        mylist.append(agent24)\n",
    "\n",
    "        game_continue = True\n",
    "\n",
    "        count_round = 0\n",
    "        sum_up123 = 0\n",
    "        sum_down123 = 0\n",
    "        sum_up231 = 0\n",
    "        sum_down231 = 0\n",
    "        sum_up312 = 0\n",
    "        sum_down312 = 0\n",
    "\n",
    "        result_list_123_each_round = []\n",
    "        result_list_123_sum = []\n",
    "        result_list_231_each_round = []\n",
    "        result_list_231_sum = []\n",
    "        result_list_312_each_round = []\n",
    "        result_list_312_sum = []\n",
    "\n",
    "\n",
    "        sum_up11 = 0\n",
    "        sum_down11 = 0\n",
    "        sum_up22 = 0\n",
    "        sum_down22 = 0\n",
    "        sum_up33 = 0\n",
    "        sum_down33 = 0\n",
    "\n",
    "        t_list = []\n",
    "\n",
    "        while(count_round < 10000):\n",
    "            count_round += 1\n",
    "            t_list.append(count_round)\n",
    "            matched_list = match(mylist)\n",
    "\n",
    "            for key in matched_list.keys():\n",
    "                transaction_decision(key)\n",
    "                transaction_decision(matched_list[key])\n",
    "\n",
    "            global_r1_2_3 = global_a1_s2_f3(mylist,0,0)\n",
    "            sum_up123 = sum_up123 + global_r1_2_3[0]\n",
    "            sum_down123 = sum_down123 + global_r1_2_3[1]\n",
    "            result_list_123_each_round.append( (global_r1_2_3[0]+0.1) / (global_r1_2_3[1]+0.1) )\n",
    "            result_list_123_sum.append((sum_up123+0.1)/(sum_down123+0.1))\n",
    "\n",
    "            global_r2_3_1 = global_a2_s3_f1(mylist,0,0)\n",
    "            sum_up231 = sum_up231 + global_r2_3_1[0]\n",
    "            sum_down231 = sum_down231 + global_r2_3_1[1]\n",
    "            result_list_231_each_round.append( (global_r2_3_1[0]+0.1) / (global_r2_3_1[1]+0.1) )\n",
    "            result_list_231_sum.append((sum_up231+0.1)/(sum_down231+0.1))\n",
    "\n",
    "            global_r3_1_2 = global_a3_s1_f2(mylist,0,0)\n",
    "            sum_up312 = sum_up312 + global_r3_1_2[0]\n",
    "            sum_down312 = sum_down312 + global_r3_1_2[1]\n",
    "            result_list_312_each_round.append( (global_r3_1_2[0]+0.1) / (global_r3_1_2[1]+0.1) )\n",
    "            result_list_312_sum.append((sum_up312+0.1)/(sum_down312+0.1))\n",
    "\n",
    "            global_r1_1 = global_a1_s_f1(mylist,0,0)\n",
    "            sum_up11 = sum_up11 + global_r1_1[0]\n",
    "            sum_down11 = sum_down11 + global_r1_1[1]\n",
    "\n",
    "            global_r2_2 = global_a2_s_f2(mylist,0,0)\n",
    "            sum_up22 = sum_up22 + global_r2_2[0]\n",
    "            sum_down22 = sum_down22 + global_r2_2[1]\n",
    "\n",
    "            global_r3_3 = global_a3_s_f3(mylist,0,0)\n",
    "            sum_up33 = sum_up33 + global_r3_3[0]\n",
    "            sum_down33 = sum_down33 + global_r3_3[1]\n",
    "\n",
    "\n",
    "\n",
    "            #for ele in mylist:\n",
    "                #ele.displayAgent()\n",
    "\n",
    "            produce_outcome(matched_list)\n",
    "\n",
    "            for key in matched_list.keys():\n",
    "                update_trading(key)\n",
    "                update_trading(matched_list[key])\n",
    "\n",
    "            #print(count_round)\n",
    "\n",
    "            stopping_draw = random.uniform(0, 1)\n",
    "            if stopping_draw > 0.01:\n",
    "                game_continue = True\n",
    "            else:\n",
    "                game_continue = False\n",
    "\n",
    "        #print(\"Agent 1 with good 2 facing good 3:\", sum_up123/sum_down123)\n",
    "        #print(\"Agent 2 with good 3 facing good 1:\", sum_up231/sum_down231)\n",
    "        #print(\"Agent 3 with good 1 facing good 2:\", sum_up312/sum_down312)\n",
    "\n",
    "        #print(\"Agent 1 facing good 1:\", sum_up11/sum_down11)\n",
    "        #print(\"Agent 2 facing good 2:\", sum_up22/sum_down22)\n",
    "        #print(\"Agent 3 facing good 3:\", sum_up33/sum_down33)\n",
    "    outcome_recorder_123.append(sum_up123/sum_down123)\n",
    "    outcome_recorder_231.append(sum_up231/sum_down231)\n",
    "    outcome_recorder_312.append(sum_up312/sum_down312)\n"
   ]
  },
  {
   "cell_type": "code",
   "execution_count": 198,
   "id": "c8aa991b",
   "metadata": {},
   "outputs": [
    {
     "data": {
      "text/plain": [
       "<function matplotlib.pyplot.show(close=None, block=None)>"
      ]
     },
     "execution_count": 198,
     "metadata": {},
     "output_type": "execute_result"
    },
    {
     "data": {
      "image/png": "[encoded data removed]",
      "text/plain": [
       "<Figure size 432x288 with 1 Axes>"
      ]
     },
     "metadata": {
      "needs_background": "light"
     },
     "output_type": "display_data"
    }
   ],
   "source": [
    "#print(outcome_recorder_123)\n",
    "#print(outcome_recorder_231)\n",
    "#print(outcome_recorder_312)\n",
    "plt.plot(outcome_recorder_123, label = \"agent1\")\n",
    "plt.plot(outcome_recorder_231, label = \"agent2\")\n",
    "plt.plot(outcome_recorder_312, label = \"agent3\")\n",
    "plt.legend()\n",
    "plt.xlabel(\"t\")\n",
    "plt.ylabel(\"Non-consumption good offering ratio\")\n",
    "plt.show"
   ]
  },
  {
   "cell_type": "code",
   "execution_count": 199,
   "id": "22d4742f",
   "metadata": {},
   "outputs": [
    {
     "name": "stdout",
     "output_type": "stream",
     "text": [
      "0.07750406594704286\n",
      "0.012204500294262299\n"
     ]
    }
   ],
   "source": [
    "#Multiple session Statistics \n",
    "print(sum(outcome_recorder_123) / loop_counter)\n",
    "print(np.std(outcome_recorder_123))"
   ]
  },
  {
   "cell_type": "code",
   "execution_count": 200,
   "id": "3fa0952c",
   "metadata": {},
   "outputs": [
    {
     "name": "stdout",
     "output_type": "stream",
     "text": [
      "0.9998805382864099\n",
      "0.000108629475013728\n"
     ]
    }
   ],
   "source": [
    "print(sum(outcome_recorder_231) / loop_counter)\n",
    "print(np.std(outcome_recorder_231))"
   ]
  },
  {
   "cell_type": "code",
   "execution_count": 201,
   "id": "c24ab0d5",
   "metadata": {},
   "outputs": [
    {
     "name": "stdout",
     "output_type": "stream",
     "text": [
      "0.009429315546323726\n",
      "0.002027126985270428\n"
     ]
    }
   ],
   "source": [
    "print(sum(outcome_recorder_312) / loop_counter)\n",
    "print(np.std(outcome_recorder_312))"
   ]
  },
  {
   "cell_type": "code",
   "execution_count": null,
   "id": "bd9162ba",
   "metadata": {},
   "outputs": [],
   "source": []
  },
  {
   "cell_type": "code",
   "execution_count": null,
   "id": "7b4fe9f8",
   "metadata": {},
   "outputs": [],
   "source": []
  }
 ],
 "metadata": {
  "kernelspec": {
   "display_name": "Python 3 (ipykernel)",
   "language": "python",
   "name": "python3"
  },
  "language_info": {
   "codemirror_mode": {
    "name": "ipython",
    "version": 3
   },
   "file_extension": ".py",
   "mimetype": "text/x-python",
   "name": "python",
   "nbconvert_exporter": "python",
   "pygments_lexer": "ipython3",
   "version": "3.8.3"
  }
 },
 "nbformat": 4,
 "nbformat_minor": 5
}
