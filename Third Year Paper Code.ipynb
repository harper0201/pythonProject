{
 "cells": [
  {
   "cell_type": "code",
   "execution_count": 17,
   "id": "093826a6",
   "metadata": {},
   "outputs": [],
   "source": [
    "#Third Year Paper Code"
   ]
  },
  {
   "cell_type": "code",
   "execution_count": 18,
   "id": "5cae1595",
   "metadata": {},
   "outputs": [],
   "source": [
    "#Basic Parameters\n",
    "u = 100\n",
    "β = 0.9\n",
    "c_1 = 1\n",
    "c_2 = 4\n",
    "c_3 = 9"
   ]
  },
  {
   "cell_type": "code",
   "execution_count": null,
   "id": "be080ab0",
   "metadata": {},
   "outputs": [],
   "source": [
    "#initial value for Q\n",
    "#When initial condition is production good in storage\n",
    "Q_12 = "
   ]
  },
  {
   "cell_type": "code",
   "execution_count": 10,
   "id": "bee742b9",
   "metadata": {},
   "outputs": [],
   "source": [
    "#Create agents\n",
    "\n",
    "#Agents have there type which same as there consumption type, they also have production type\n",
    "class Agent:\n",
    "    agentCount = 0\n",
    "    def __init__(self,id,consume_type,product_type):\n",
    "        self.id = id\n",
    "        self.consume_type = consume_type\n",
    "        self.product_type = product_type\n",
    "        self.storage_type = product_type\n",
    "        #other characteristics wait to be added \n",
    "        Agent.agentCount += 1\n",
    "\n",
    "    def displayAgent(self):\n",
    "        print(\"consume:\", self.consume_type, \",produce:\", self.product_type, \",storage:\",\n",
    "              self.storage_type)    \n",
    "\n",
    "\n",
    "if __name__ == '__main__':   \n",
    "    agent1 = Agent(1,1,2)\n",
    "    agent2 = Agent(2,1,2)\n",
    "    agent3 = Agent(3,1,2)\n",
    "    agent4 = Agent(4,1,2)\n",
    "    agent5 = Agent(5,1,2)\n",
    "    agent6 = Agent(6,1,2)\n",
    "    agent7 = Agent(7,1,2)\n",
    "    agent8 = Agent(8,1,2)\n",
    "    agent9 = Agent(9,2,3)\n",
    "    agent10 = Agent(10,2,3)\n",
    "    agent11 = Agent(11,2,3)\n",
    "    agent12 = Agent(12,2,3)\n",
    "    agent13 = Agent(13,2,3)\n",
    "    agent14 = Agent(14,2,3)\n",
    "    agent15 = Agent(15,2,3)\n",
    "    agent16 = Agent(16,2,3)\n",
    "    agent17 = Agent(17,3,1)\n",
    "    agent18 = Agent(18,3,1)\n",
    "    agent19 = Agent(19,3,1)\n",
    "    agent20 = Agent(20,3,1)\n",
    "    agent21 = Agent(21,3,1)\n",
    "    agent22 = Agent(22,3,1)\n",
    "    agent23 = Agent(23,3,1)\n",
    "    agent24 = Agent(24,3,1)"
   ]
  },
  {
   "cell_type": "code",
   "execution_count": 29,
   "id": "48f93ec1",
   "metadata": {},
   "outputs": [],
   "source": [
    "#trading decision\n",
    "def trading_decision(Q_hold,C_hold,Q_trade,C_trade):\n",
    "    if β*Q_hold - C_hold  < β*Q_trade - C_trade:\n",
    "        de = 1\n",
    "    else:\n",
    "        de = 0\n",
    "    return de\n",
    "\n",
    "#Trading process\n",
    "def trading_outcome(decision_1,decision_2):\n",
    "    if decision_1 == 1 & decision_2 == 1:\n",
    "        outcome = 1\n",
    "    else:\n",
    "        outcome = 0\n",
    "    return outcome"
   ]
  },
  {
   "cell_type": "code",
   "execution_count": 27,
   "id": "cecf99b3",
   "metadata": {},
   "outputs": [
    {
     "ename": "SyntaxError",
     "evalue": "invalid syntax (2961504711.py, line 7)",
     "output_type": "error",
     "traceback": [
      "\u001b[0;36m  File \u001b[0;32m\"/var/folders/jx/zldzdmzn4m36wbd4xm51g8nr0000gn/T/ipykernel_76971/2961504711.py\"\u001b[0;36m, line \u001b[0;32m7\u001b[0m\n\u001b[0;31m    if meeting_type = consumption_type & trading worked:\u001b[0m\n\u001b[0m                    ^\u001b[0m\n\u001b[0;31mSyntaxError\u001b[0m\u001b[0;31m:\u001b[0m invalid syntax\n"
     ]
    }
   ],
   "source": [
    "#updating beliefs Q_ij\n",
    "#just an example, need to be work for all agents\n",
    "t = 1\n",
    "#γ = 1/t #decreasing gain\n",
    "γ = 0.8 \n",
    "\n",
    "if meeting_type == consumption_type & trading worked:\n",
    "    V_12_prime = -c_2 + u + βQ_12\n",
    "elif meeting_type == another_good_type & trading worked:\n",
    "    V_13_prime = -c_3 + βQ_13\n",
    "else:\n",
    "    V_12_prime = -c_2 + βQ_12\n",
    "\n",
    "Q_12 = Q_12 + γ(V_12_prime - Q_12)\n",
    "Q_13 = Q_13 + γ(V_13_prime - Q_13)\n",
    "Q_21 = Q_21 + γ(V_21_prime - Q_21)\n",
    "Q_23 = Q_23 + γ(V_23_prime - Q_23)\n",
    "Q_31 = Q_31 + γ(V_31_prime - Q_31)\n",
    "Q_32 = Q_31 + γ(V_31_prime - Q_31)"
   ]
  },
  {
   "cell_type": "code",
   "execution_count": 34,
   "id": "30346e4b",
   "metadata": {},
   "outputs": [
    {
     "name": "stdout",
     "output_type": "stream",
     "text": [
      "consume: 2 ,produce: 3 ,storage: 3\n",
      "1\n",
      "consume: 1 ,produce: 2 ,storage: 2\n",
      "0\n"
     ]
    }
   ],
   "source": [
    "#testing\n",
    "Agent.displayAgent(agent9)\n",
    "Agent.agentCount\n",
    "\n",
    "Agent12_meet_3 = trading_decision(65,4,103,9)\n",
    "print(Agent12_meet_3)\n",
    "agent1.displayAgent()\n",
    "\n"
   ]
  },
  {
   "cell_type": "code",
   "execution_count": null,
   "id": "098948ee",
   "metadata": {},
   "outputs": [],
   "source": [
    "#whats next:\n",
    "#1. how two agents random match at each period\n",
    "#1.1 after match if storage = same, then both do nothing\n",
    "#1.2 if storage =! same, then each agent use their own parameters to decide trade or not\n",
    "\n",
    "#2 Other agents properties \n",
    "#2.1 each agents has there own perceived value of other goods Q(at least the non consumption good)\n",
    "\n",
    "#3 need to record agents behavior (maybe this is why agent-base is better?)\n",
    "#3.1 when type 1 agent faced trading opportunity for good 3\n",
    "#3.2 when type 2 agent faced trading opportunity for good 1\n",
    "#3.3 when type 3 agent faced trading opportunity for good 2 \n",
    "\n",
    "#4 how agents decide whether trade or not\n",
    "\n",
    "#5\n"
   ]
  }
 ],
 "metadata": {
  "kernelspec": {
   "display_name": "Python 3 (ipykernel)",
   "language": "python",
   "name": "python3"
  },
  "language_info": {
   "codemirror_mode": {
    "name": "ipython",
    "version": 3
   },
   "file_extension": ".py",
   "mimetype": "text/x-python",
   "name": "python",
   "nbconvert_exporter": "python",
   "pygments_lexer": "ipython3",
   "version": "3.8.3"
  }
 },
 "nbformat": 4,
 "nbformat_minor": 5
}
