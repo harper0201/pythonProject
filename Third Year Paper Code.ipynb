{
 "cells": [
  {
   "cell_type": "code",
   "execution_count": 43,
   "id": "093826a6",
   "metadata": {},
   "outputs": [],
   "source": [
    "#Third Year Paper Code\n",
    "import numpy as np\n",
    "import random "
   ]
  },
  {
   "cell_type": "code",
   "execution_count": 18,
   "id": "5cae1595",
   "metadata": {},
   "outputs": [],
   "source": [
    "#Basic Parameters\n",
    "u = 100\n",
    "β = 0.9\n",
    "c_1 = 1\n",
    "c_2 = 4\n",
    "c_3 = 9\n",
    "t = 1"
   ]
  },
  {
   "cell_type": "code",
   "execution_count": null,
   "id": "be080ab0",
   "metadata": {},
   "outputs": [],
   "source": [
    "#initial value for Q\n",
    "#When initial condition is production good in storage\n",
    "#based on rational expectation\n",
    "shock = 0\n",
    "Q_12 = 65 + shock\n",
    "Q_13 = 103 + shock\n",
    "Q_11 = Q_12 + u\n",
    "Q_21 = 256 + shock\n",
    "Q_23 = 244 + shock\n",
    "Q_22 = Q_23 + u\n",
    "Q_31 = 290 + shock\n",
    "Q_32 = 230 + shock\n",
    "Q_33 = Q_31 + u"
   ]
  },
  {
   "cell_type": "code",
   "execution_count": 95,
   "id": "0bc4f62e",
   "metadata": {},
   "outputs": [],
   "source": [
    "# Create agents\n",
    "import random\n",
    "# Agents have there type which same as there consumption type, they also have production type\n",
    "class Agent:\n",
    "    agentCount = 0\n",
    "\n",
    "    def __init__(self, id, consume_type, product_type):\n",
    "        self.id = id\n",
    "        self.consume_type = consume_type\n",
    "        self.product_type = product_type\n",
    "        self.storage_type = product_type\n",
    "        \n",
    "        self.trading = False\n",
    "        \n",
    "        #generate type 1 agents' Q(precieved value for holding good 1 , 2 , 3)\n",
    "        if self.consume_type == 1:\n",
    "            self.Q_2 = 65 + random.randint(1, 10)\n",
    "        if self.consume_type == 1:\n",
    "            self.Q_3 = 103 + random.randint(1, 10)\n",
    "        if self.consume_type == 1:\n",
    "            self.Q_1 = 65 + u + random.randint(1, 10)\n",
    "            \n",
    "        #generate type 2 agents' Q(precieved value for holding good 1 , 2 , 3)\n",
    "        if self.consume_type == 2:\n",
    "            self.Q_1 = 256 + random.randint(1, 10)\n",
    "        if self.consume_type == 2:\n",
    "            self.Q_3 = 244 + random.randint(1, 10)\n",
    "        if self.consume_type == 2:\n",
    "            self.Q_2 = 244 + u + random.randint(1, 10)\n",
    "            \n",
    "        #generate type 3 agents' Q(precieved value for holding good 1 , 2 , 3)\n",
    "        if self.consume_type == 3:\n",
    "            self.Q_1 = 290 + random.randint(1, 10)\n",
    "        if self.consume_type == 3:\n",
    "            self.Q_2 = 230 + random.randint(1, 10)\n",
    "        if self.consume_type == 3:\n",
    "            self.Q_3 = 290 + u + random.randint(1, 10)\n",
    "\n",
    "        # other characteristics wait to be added\n",
    "        Agent.agentCount += 1\n",
    "\n",
    "    def displayAgent(self):\n",
    "        print(\"Agent id:\", self.id, \"consume:\", self.consume_type, \",produce:\", self.product_type, \",storage:\",\n",
    "              self.storage_type, \"Q_1:\", self.Q_1, \"Q_2:\", self.Q_2, \"Q_3:\", self.Q_3,\"trading:\",self.trading)\n",
    "\n",
    "\n",
    "        \n",
    "#Create agent one by one, with the basic setup: agents start with their own consumption good in hands\n",
    "if __name__ == '__main__':   \n",
    "    mylist = list()\n",
    "    agent1 = Agent(1,1,2)\n",
    "    mylist.append(agent1)\n",
    "    agent2 = Agent(2,1,2)\n",
    "    mylist.append(agent2)\n",
    "    agent3 = Agent(3,1,2)\n",
    "    mylist.append(agent3)\n",
    "    agent4 = Agent(4,1,2)\n",
    "    mylist.append(agent4)\n",
    "    agent5 = Agent(5,1,2)\n",
    "    mylist.append(agent5)\n",
    "    agent6 = Agent(6,1,2)\n",
    "    mylist.append(agent6)\n",
    "    agent7 = Agent(7,1,2)\n",
    "    mylist.append(agent7)\n",
    "    agent8 = Agent(8,1,2)\n",
    "    mylist.append(agent8)\n",
    "    agent9 = Agent(9,2,3)\n",
    "    mylist.append(agent9)\n",
    "    agent10 = Agent(10,2,3)\n",
    "    mylist.append(agent10)\n",
    "    agent11 = Agent(11,2,3)\n",
    "    mylist.append(agent11)\n",
    "    agent12 = Agent(12,2,3)\n",
    "    mylist.append(agent12)\n",
    "    agent13 = Agent(13,2,3)\n",
    "    mylist.append(agent13)\n",
    "    agent14 = Agent(14,2,3)\n",
    "    mylist.append(agent14)\n",
    "    agent15 = Agent(15,2,3)\n",
    "    mylist.append(agent15)\n",
    "    agent16 = Agent(16,2,3)\n",
    "    mylist.append(agent16)\n",
    "    agent17 = Agent(17,3,1)\n",
    "    mylist.append(agent17)\n",
    "    agent18 = Agent(18,3,1)\n",
    "    mylist.append(agent18)\n",
    "    agent19 = Agent(19,3,1)\n",
    "    mylist.append(agent19)\n",
    "    agent20 = Agent(20,3,1)\n",
    "    mylist.append(agent20)\n",
    "    agent21 = Agent(21,3,1)\n",
    "    mylist.append(agent21)\n",
    "    agent22 = Agent(22,3,1)\n",
    "    mylist.append(agent22)\n",
    "    agent23 = Agent(23,3,1)\n",
    "    mylist.append(agent23)\n",
    "    agent24 = Agent(24,3,1)\n",
    "    mylist.append(agent24)       "
   ]
  },
  {
   "cell_type": "code",
   "execution_count": 93,
   "id": "bee742b9",
   "metadata": {},
   "outputs": [],
   "source": [
    "#matching process\n",
    "def match(mylist):\n",
    "    random.shuffle(mylist)\n",
    "    matchlist = dict()\n",
    "    index = list(range(0, len(mylist), 2))\n",
    "    for i in index:\n",
    "        matchlist[mylist[i]] = mylist[i+1]\n",
    "    return matchlist\n",
    " "
   ]
  },
  {
   "cell_type": "code",
   "execution_count": 94,
   "id": "054e40f3",
   "metadata": {},
   "outputs": [
    {
     "name": "stdout",
     "output_type": "stream",
     "text": [
      "Agent id: 1 consume: 1 ,produce: 2 ,storage: 2 Q_1: 167 Q_2: 71 Q_3: 112\n",
      "Agent id: 2 consume: 1 ,produce: 2 ,storage: 2 Q_1: 173 Q_2: 69 Q_3: 108\n",
      "Agent id: 3 consume: 1 ,produce: 2 ,storage: 2 Q_1: 166 Q_2: 71 Q_3: 109\n",
      "Agent id: 4 consume: 1 ,produce: 2 ,storage: 2 Q_1: 171 Q_2: 67 Q_3: 104\n",
      "Agent id: 5 consume: 1 ,produce: 2 ,storage: 2 Q_1: 169 Q_2: 67 Q_3: 106\n",
      "Agent id: 6 consume: 1 ,produce: 2 ,storage: 2 Q_1: 167 Q_2: 73 Q_3: 105\n",
      "Agent id: 7 consume: 1 ,produce: 2 ,storage: 2 Q_1: 167 Q_2: 67 Q_3: 106\n",
      "Agent id: 8 consume: 1 ,produce: 2 ,storage: 2 Q_1: 173 Q_2: 66 Q_3: 111\n",
      "Agent id: 9 consume: 2 ,produce: 3 ,storage: 3 Q_1: 264 Q_2: 351 Q_3: 250\n",
      "Agent id: 10 consume: 2 ,produce: 3 ,storage: 3 Q_1: 259 Q_2: 346 Q_3: 252\n",
      "Agent id: 11 consume: 2 ,produce: 3 ,storage: 3 Q_1: 263 Q_2: 347 Q_3: 247\n",
      "Agent id: 12 consume: 2 ,produce: 3 ,storage: 3 Q_1: 261 Q_2: 350 Q_3: 251\n",
      "Agent id: 13 consume: 2 ,produce: 3 ,storage: 3 Q_1: 261 Q_2: 352 Q_3: 250\n",
      "Agent id: 14 consume: 2 ,produce: 3 ,storage: 3 Q_1: 259 Q_2: 351 Q_3: 247\n",
      "Agent id: 15 consume: 2 ,produce: 3 ,storage: 3 Q_1: 260 Q_2: 345 Q_3: 254\n",
      "Agent id: 16 consume: 2 ,produce: 3 ,storage: 3 Q_1: 258 Q_2: 345 Q_3: 254\n",
      "Agent id: 17 consume: 3 ,produce: 1 ,storage: 1 Q_1: 298 Q_2: 238 Q_3: 399\n",
      "Agent id: 18 consume: 3 ,produce: 1 ,storage: 1 Q_1: 300 Q_2: 236 Q_3: 395\n",
      "Agent id: 19 consume: 3 ,produce: 1 ,storage: 1 Q_1: 297 Q_2: 233 Q_3: 399\n",
      "Agent id: 20 consume: 3 ,produce: 1 ,storage: 1 Q_1: 294 Q_2: 232 Q_3: 392\n",
      "Agent id: 21 consume: 3 ,produce: 1 ,storage: 1 Q_1: 293 Q_2: 235 Q_3: 393\n",
      "Agent id: 22 consume: 3 ,produce: 1 ,storage: 1 Q_1: 300 Q_2: 239 Q_3: 395\n",
      "Agent id: 23 consume: 3 ,produce: 1 ,storage: 1 Q_1: 292 Q_2: 239 Q_3: 391\n",
      "Agent id: 24 consume: 3 ,produce: 1 ,storage: 1 Q_1: 292 Q_2: 231 Q_3: 394\n"
     ]
    }
   ],
   "source": [
    "#TEST2 \n",
    "for i in mylist:\n",
    "    i.displayAgent()"
   ]
  },
  {
   "cell_type": "code",
   "execution_count": 51,
   "id": "eeaf614f",
   "metadata": {},
   "outputs": [
    {
     "name": "stdout",
     "output_type": "stream",
     "text": [
      "9 18\n",
      "8 19\n",
      "16 15\n",
      "11 4\n",
      "24 17\n",
      "14 13\n",
      "7 6\n",
      "5 1\n",
      "21 23\n",
      "2 3\n",
      "10 12\n",
      "20 22\n"
     ]
    }
   ],
   "source": [
    "#matching process\n",
    "\n",
    "random.shuffle(mylist)\n",
    "\n",
    "matchlist = dict()\n",
    "index = list(range(0, len(mylist), 2))\n",
    "for i in index:\n",
    "    matchlist[mylist[i]] = mylist[i+1]\n",
    "\n",
    "for x, y in matchlist.items():\n",
    "    print(x.id, y.id)"
   ]
  },
  {
   "cell_type": "code",
   "execution_count": 48,
   "id": "48f93ec1",
   "metadata": {},
   "outputs": [],
   "source": [
    "#trading decision\n",
    "def trading_decision(Q_hold,C_hold,Q_trade,C_trade):\n",
    "    if β*Q_hold - C_hold  < β*Q_trade - C_trade:\n",
    "        de = 1\n",
    "    else:\n",
    "        de = 0\n",
    "    return de\n",
    "\n",
    "#Trading process\n",
    "def trading_outcome(decision_1,decision_2):\n",
    "    if decision_1 == 1 & decision_2 == 1:\n",
    "        outcome = 1\n",
    "    else:\n",
    "        outcome = 0\n",
    "    return outcome"
   ]
  },
  {
   "cell_type": "code",
   "execution_count": 27,
   "id": "cecf99b3",
   "metadata": {},
   "outputs": [
    {
     "ename": "SyntaxError",
     "evalue": "invalid syntax (2961504711.py, line 7)",
     "output_type": "error",
     "traceback": [
      "\u001b[0;36m  File \u001b[0;32m\"/var/folders/jx/zldzdmzn4m36wbd4xm51g8nr0000gn/T/ipykernel_76971/2961504711.py\"\u001b[0;36m, line \u001b[0;32m7\u001b[0m\n\u001b[0;31m    if meeting_type = consumption_type & trading worked:\u001b[0m\n\u001b[0m                    ^\u001b[0m\n\u001b[0;31mSyntaxError\u001b[0m\u001b[0;31m:\u001b[0m invalid syntax\n"
     ]
    }
   ],
   "source": [
    "#updating beliefs Q_ij\n",
    "#just an example, need to be work for all agents\n",
    "\n",
    "#γ = 1/t #decreasing gain\n",
    "γ = 0.8 \n",
    "\n",
    "if meeting_type == consumption_type & trading worked:\n",
    "    V_12_prime = -c_2 + u + βQ_12\n",
    "elif meeting_type == another_good_type & trading worked:\n",
    "    V_13_prime = -c_3 + βQ_13\n",
    "else:\n",
    "    V_12_prime = -c_2 + βQ_12\n",
    "\n",
    "Q_12 = Q_12 + γ(V_12_prime - Q_12)\n",
    "Q_13 = Q_13 + γ(V_13_prime - Q_13)\n",
    "Q_21 = Q_21 + γ(V_21_prime - Q_21)\n",
    "Q_23 = Q_23 + γ(V_23_prime - Q_23)\n",
    "Q_31 = Q_31 + γ(V_31_prime - Q_31)\n",
    "Q_32 = Q_31 + γ(V_31_prime - Q_31)"
   ]
  },
  {
   "cell_type": "code",
   "execution_count": 75,
   "id": "110d5b67",
   "metadata": {},
   "outputs": [
    {
     "name": "stdout",
     "output_type": "stream",
     "text": [
      "1\n"
     ]
    }
   ],
   "source": [
    "#game stopping rule and restart a new round\n",
    "def stopping_rule():\n",
    "    stopping_draw = random.uniform(0,1)\n",
    "\n",
    "    if stopping_draw > 0.1:\n",
    "        #move to next round\n",
    "        game_continue = 1\n",
    "    else:\n",
    "        #this game end\n",
    "        game_continue = 0\n",
    "    return game_continue\n",
    "    \n",
    "next_round = stopping_rule()\n",
    "print(next_round)\n",
    "\n",
    "#start a new round\n",
    "if next_round == 0:\n",
    "    #start a new game\n",
    "    #keep everthing the same, but the inventory\n",
    "    #the inventory resets to initial setting\n",
    "    pass\n"
   ]
  },
  {
   "cell_type": "code",
   "execution_count": 86,
   "id": "30346e4b",
   "metadata": {},
   "outputs": [
    {
     "name": "stdout",
     "output_type": "stream",
     "text": [
      "Agent id: 1 consume: 1 ,produce: 2 ,storage: 2 Q1: 72\n"
     ]
    }
   ],
   "source": [
    "#testing\n",
    "class Agent:\n",
    "    agentCount = 0\n",
    "    def __init__(self,id,consume_type,product_type):\n",
    "        self.id = id\n",
    "        self.consume_type = consume_type\n",
    "        self.product_type = product_type\n",
    "        self.storage_type = product_type\n",
    "        self.istrading = fasle;\n",
    "        if self.consume_type == 1:\n",
    "            self.Q_1 = 65 + random.randint(1,10)\n",
    "        #other characteristics wait to be added \n",
    "        Agent.agentCount += 1\n",
    "    def displayAgent(self):\n",
    "        print(\"Agent id:\",self.id,\"consume:\", self.consume_type, \",produce:\", self.product_type, \",storage:\",\n",
    "              self.storage_type,\"Q1:\",self.Q_1)    \n",
    "    \n",
    "if __name__ == '__main__':   \n",
    "    mylist = list()\n",
    "    agent1 = Agent(1,1,2)\n",
    "\n",
    "agent1.displayAgent()"
   ]
  },
  {
   "cell_type": "code",
   "execution_count": null,
   "id": "098948ee",
   "metadata": {},
   "outputs": [],
   "source": [
    "#whats next:\n",
    "#1. how two agents random match at each period\n",
    "#1.1 after match if storage = same, then both do nothing\n",
    "#1.2 if storage =! same, then each agent use their own parameters to decide trade or not\n",
    "\n",
    "#2 Other agents properties \n",
    "#2.1 each agents has there own perceived value of other goods Q(at least the non consumption good)\n",
    "\n",
    "#3 need to record agents behavior (maybe this is why agent-base is better?)\n",
    "#3.1 when type 1 agent faced trading opportunity for good 3\n",
    "#3.2 when type 2 agent faced trading opportunity for good 1\n",
    "#3.3 when type 3 agent faced trading opportunity for good 2 \n",
    "\n",
    "#4 how agents decide whether trade or not\n",
    "\n",
    "#5\n"
   ]
  }
 ],
 "metadata": {
  "kernelspec": {
   "display_name": "Python 3 (ipykernel)",
   "language": "python",
   "name": "python3"
  },
  "language_info": {
   "codemirror_mode": {
    "name": "ipython",
    "version": 3
   },
   "file_extension": ".py",
   "mimetype": "text/x-python",
   "name": "python",
   "nbconvert_exporter": "python",
   "pygments_lexer": "ipython3",
   "version": "3.8.3"
  }
 },
 "nbformat": 4,
 "nbformat_minor": 5
}
